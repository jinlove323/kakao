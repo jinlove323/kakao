{
 "cells": [
  {
   "cell_type": "markdown",
   "metadata": {},
   "source": [
    "# 과제1\n",
    "* 가설 :더치페이 요청에 대한 응답률이 높을수록 더치페이 서비스를 더 많이 사용한다. "
   ]
  },
  {
   "cell_type": "code",
   "execution_count": 2,
   "metadata": {},
   "outputs": [],
   "source": [
    "import pandas as pd\n",
    "import seaborn as sns\n",
    "\n",
    "import matplotlib.pyplot as plt\n",
    "%matplotlib inline"
   ]
  },
  {
   "cell_type": "code",
   "execution_count": 3,
   "metadata": {},
   "outputs": [
    {
     "data": {
      "text/html": [
       "<div>\n",
       "<style scoped>\n",
       "    .dataframe tbody tr th:only-of-type {\n",
       "        vertical-align: middle;\n",
       "    }\n",
       "\n",
       "    .dataframe tbody tr th {\n",
       "        vertical-align: top;\n",
       "    }\n",
       "\n",
       "    .dataframe thead th {\n",
       "        text-align: right;\n",
       "    }\n",
       "</style>\n",
       "<table border=\"1\" class=\"dataframe\">\n",
       "  <thead>\n",
       "    <tr style=\"text-align: right;\">\n",
       "      <th></th>\n",
       "      <th>claim_detail_id</th>\n",
       "      <th>claim_id</th>\n",
       "      <th>recv_user_id</th>\n",
       "      <th>claim_amount</th>\n",
       "      <th>send_amount</th>\n",
       "      <th>status</th>\n",
       "    </tr>\n",
       "  </thead>\n",
       "  <tbody>\n",
       "    <tr>\n",
       "      <td>0</td>\n",
       "      <td>12918735</td>\n",
       "      <td>4075714</td>\n",
       "      <td>39476d42bd5f268</td>\n",
       "      <td>4</td>\n",
       "      <td>NaN</td>\n",
       "      <td>CLAIM</td>\n",
       "    </tr>\n",
       "    <tr>\n",
       "      <td>1</td>\n",
       "      <td>12918734</td>\n",
       "      <td>4075714</td>\n",
       "      <td>a84a2bf8ab324d3</td>\n",
       "      <td>4</td>\n",
       "      <td>4.0</td>\n",
       "      <td>CHECK</td>\n",
       "    </tr>\n",
       "    <tr>\n",
       "      <td>2</td>\n",
       "      <td>12829743</td>\n",
       "      <td>4049182</td>\n",
       "      <td>810b763a8f463a9</td>\n",
       "      <td>11750</td>\n",
       "      <td>NaN</td>\n",
       "      <td>CLAIM</td>\n",
       "    </tr>\n",
       "    <tr>\n",
       "      <td>3</td>\n",
       "      <td>12829742</td>\n",
       "      <td>4049182</td>\n",
       "      <td>1fc6c9d423a40ec</td>\n",
       "      <td>11750</td>\n",
       "      <td>NaN</td>\n",
       "      <td>CLAIM</td>\n",
       "    </tr>\n",
       "    <tr>\n",
       "      <td>4</td>\n",
       "      <td>12829741</td>\n",
       "      <td>4049182</td>\n",
       "      <td>3fc7171d336cf2f</td>\n",
       "      <td>11750</td>\n",
       "      <td>NaN</td>\n",
       "      <td>CLAIM</td>\n",
       "    </tr>\n",
       "  </tbody>\n",
       "</table>\n",
       "</div>"
      ],
      "text/plain": [
       "   claim_detail_id  claim_id     recv_user_id  claim_amount  send_amount  \\\n",
       "0         12918735   4075714  39476d42bd5f268             4          NaN   \n",
       "1         12918734   4075714  a84a2bf8ab324d3             4          4.0   \n",
       "2         12829743   4049182  810b763a8f463a9         11750          NaN   \n",
       "3         12829742   4049182  1fc6c9d423a40ec         11750          NaN   \n",
       "4         12829741   4049182  3fc7171d336cf2f         11750          NaN   \n",
       "\n",
       "  status  \n",
       "0  CLAIM  \n",
       "1  CHECK  \n",
       "2  CLAIM  \n",
       "3  CLAIM  \n",
       "4  CLAIM  "
      ]
     },
     "execution_count": 3,
     "metadata": {},
     "output_type": "execute_result"
    }
   ],
   "source": [
    "dutch_dt = pd.read_csv('C:/Users/jinlo/Desktop/analysis/Kakao pay/dutchpay_claim_detail.csv')\n",
    "dutch_dt.head()"
   ]
  },
  {
   "cell_type": "code",
   "execution_count": 4,
   "metadata": {},
   "outputs": [
    {
     "data": {
      "text/html": [
       "<div>\n",
       "<style scoped>\n",
       "    .dataframe tbody tr th:only-of-type {\n",
       "        vertical-align: middle;\n",
       "    }\n",
       "\n",
       "    .dataframe tbody tr th {\n",
       "        vertical-align: top;\n",
       "    }\n",
       "\n",
       "    .dataframe thead th {\n",
       "        text-align: right;\n",
       "    }\n",
       "</style>\n",
       "<table border=\"1\" class=\"dataframe\">\n",
       "  <thead>\n",
       "    <tr style=\"text-align: right;\">\n",
       "      <th></th>\n",
       "      <th>claim_id</th>\n",
       "      <th>claim_at</th>\n",
       "      <th>claim_user_id</th>\n",
       "    </tr>\n",
       "  </thead>\n",
       "  <tbody>\n",
       "    <tr>\n",
       "      <td>0</td>\n",
       "      <td>4420721</td>\n",
       "      <td>2020-02-07 15:29:18</td>\n",
       "      <td>5cbd74112c55a0a</td>\n",
       "    </tr>\n",
       "    <tr>\n",
       "      <td>1</td>\n",
       "      <td>4420704</td>\n",
       "      <td>2020-02-07 15:26:54</td>\n",
       "      <td>5cbd74112c55a0a</td>\n",
       "    </tr>\n",
       "    <tr>\n",
       "      <td>2</td>\n",
       "      <td>4454342</td>\n",
       "      <td>2020-02-10 19:18:31</td>\n",
       "      <td>f077bc4ec8fd0ef</td>\n",
       "    </tr>\n",
       "    <tr>\n",
       "      <td>3</td>\n",
       "      <td>4453683</td>\n",
       "      <td>2020-02-10 18:15:11</td>\n",
       "      <td>f077bc4ec8fd0ef</td>\n",
       "    </tr>\n",
       "    <tr>\n",
       "      <td>4</td>\n",
       "      <td>4348820</td>\n",
       "      <td>2020-02-01 09:41:30</td>\n",
       "      <td>f077bc4ec8fd0ef</td>\n",
       "    </tr>\n",
       "  </tbody>\n",
       "</table>\n",
       "</div>"
      ],
      "text/plain": [
       "   claim_id             claim_at    claim_user_id\n",
       "0   4420721  2020-02-07 15:29:18  5cbd74112c55a0a\n",
       "1   4420704  2020-02-07 15:26:54  5cbd74112c55a0a\n",
       "2   4454342  2020-02-10 19:18:31  f077bc4ec8fd0ef\n",
       "3   4453683  2020-02-10 18:15:11  f077bc4ec8fd0ef\n",
       "4   4348820  2020-02-01 09:41:30  f077bc4ec8fd0ef"
      ]
     },
     "execution_count": 4,
     "metadata": {},
     "output_type": "execute_result"
    }
   ],
   "source": [
    "dutch = pd.read_csv('C:/Users/jinlo/Desktop/analysis/Kakao pay/dutchpay_claim.csv')\n",
    "dutch.head()"
   ]
  },
  {
   "cell_type": "code",
   "execution_count": 5,
   "metadata": {},
   "outputs": [
    {
     "name": "stdout",
     "output_type": "stream",
     "text": [
      "159194\n",
      "557644\n"
     ]
    }
   ],
   "source": [
    "print(len(dutch))\n",
    "print(len(dutch_dt))"
   ]
  },
  {
   "cell_type": "code",
   "execution_count": 6,
   "metadata": {},
   "outputs": [
    {
     "data": {
      "text/html": [
       "<div>\n",
       "<style scoped>\n",
       "    .dataframe tbody tr th:only-of-type {\n",
       "        vertical-align: middle;\n",
       "    }\n",
       "\n",
       "    .dataframe tbody tr th {\n",
       "        vertical-align: top;\n",
       "    }\n",
       "\n",
       "    .dataframe thead th {\n",
       "        text-align: right;\n",
       "    }\n",
       "</style>\n",
       "<table border=\"1\" class=\"dataframe\">\n",
       "  <thead>\n",
       "    <tr style=\"text-align: right;\">\n",
       "      <th></th>\n",
       "      <th>claim_id</th>\n",
       "      <th>claim_at</th>\n",
       "      <th>claim_user_id</th>\n",
       "      <th>claim_detail_id</th>\n",
       "      <th>recv_user_id</th>\n",
       "      <th>claim_amount</th>\n",
       "      <th>send_amount</th>\n",
       "      <th>status</th>\n",
       "    </tr>\n",
       "  </thead>\n",
       "  <tbody>\n",
       "    <tr>\n",
       "      <td>0</td>\n",
       "      <td>4420721</td>\n",
       "      <td>2020-02-07 15:29:18</td>\n",
       "      <td>5cbd74112c55a0a</td>\n",
       "      <td>14115935</td>\n",
       "      <td>e97b2a81b8cc38e</td>\n",
       "      <td>13000</td>\n",
       "      <td>NaN</td>\n",
       "      <td>CLAIM</td>\n",
       "    </tr>\n",
       "    <tr>\n",
       "      <td>1</td>\n",
       "      <td>4420721</td>\n",
       "      <td>2020-02-07 15:29:18</td>\n",
       "      <td>5cbd74112c55a0a</td>\n",
       "      <td>14115933</td>\n",
       "      <td>b76fb84848485e9</td>\n",
       "      <td>13000</td>\n",
       "      <td>NaN</td>\n",
       "      <td>CLAIM</td>\n",
       "    </tr>\n",
       "    <tr>\n",
       "      <td>2</td>\n",
       "      <td>4420721</td>\n",
       "      <td>2020-02-07 15:29:18</td>\n",
       "      <td>5cbd74112c55a0a</td>\n",
       "      <td>14115932</td>\n",
       "      <td>5cbd74112c55a0a</td>\n",
       "      <td>13000</td>\n",
       "      <td>13000.0</td>\n",
       "      <td>CHECK</td>\n",
       "    </tr>\n",
       "    <tr>\n",
       "      <td>3</td>\n",
       "      <td>4420721</td>\n",
       "      <td>2020-02-07 15:29:18</td>\n",
       "      <td>5cbd74112c55a0a</td>\n",
       "      <td>14115934</td>\n",
       "      <td>c76d85ff6b23d31</td>\n",
       "      <td>13000</td>\n",
       "      <td>13000.0</td>\n",
       "      <td>SEND</td>\n",
       "    </tr>\n",
       "    <tr>\n",
       "      <td>4</td>\n",
       "      <td>4420704</td>\n",
       "      <td>2020-02-07 15:26:54</td>\n",
       "      <td>5cbd74112c55a0a</td>\n",
       "      <td>14115887</td>\n",
       "      <td>e97b2a81b8cc38e</td>\n",
       "      <td>13166</td>\n",
       "      <td>NaN</td>\n",
       "      <td>CLAIM</td>\n",
       "    </tr>\n",
       "  </tbody>\n",
       "</table>\n",
       "</div>"
      ],
      "text/plain": [
       "   claim_id             claim_at    claim_user_id  claim_detail_id  \\\n",
       "0   4420721  2020-02-07 15:29:18  5cbd74112c55a0a         14115935   \n",
       "1   4420721  2020-02-07 15:29:18  5cbd74112c55a0a         14115933   \n",
       "2   4420721  2020-02-07 15:29:18  5cbd74112c55a0a         14115932   \n",
       "3   4420721  2020-02-07 15:29:18  5cbd74112c55a0a         14115934   \n",
       "4   4420704  2020-02-07 15:26:54  5cbd74112c55a0a         14115887   \n",
       "\n",
       "      recv_user_id  claim_amount  send_amount status  \n",
       "0  e97b2a81b8cc38e         13000          NaN  CLAIM  \n",
       "1  b76fb84848485e9         13000          NaN  CLAIM  \n",
       "2  5cbd74112c55a0a         13000      13000.0  CHECK  \n",
       "3  c76d85ff6b23d31         13000      13000.0   SEND  \n",
       "4  e97b2a81b8cc38e         13166          NaN  CLAIM  "
      ]
     },
     "execution_count": 6,
     "metadata": {},
     "output_type": "execute_result"
    }
   ],
   "source": [
    "dutch_t=pd.merge(dutch, dutch_dt, on='claim_id', how='inner')\n",
    "dutch_t.head()"
   ]
  },
  {
   "cell_type": "code",
   "execution_count": 7,
   "metadata": {},
   "outputs": [
    {
     "name": "stdout",
     "output_type": "stream",
     "text": [
      "557644\n",
      "<class 'pandas.core.frame.DataFrame'>\n",
      "Int64Index: 557644 entries, 0 to 557643\n",
      "Data columns (total 8 columns):\n",
      "claim_id           557644 non-null int64\n",
      "claim_at           557644 non-null object\n",
      "claim_user_id      557644 non-null object\n",
      "claim_detail_id    557644 non-null int64\n",
      "recv_user_id       557644 non-null object\n",
      "claim_amount       557644 non-null int64\n",
      "send_amount        302013 non-null float64\n",
      "status             557644 non-null object\n",
      "dtypes: float64(1), int64(3), object(4)\n",
      "memory usage: 38.3+ MB\n"
     ]
    }
   ],
   "source": [
    "print(len(dutch_t))\n",
    "dutch_t.info()"
   ]
  },
  {
   "cell_type": "code",
   "execution_count": 12,
   "metadata": {},
   "outputs": [
    {
     "data": {
      "text/html": [
       "<div>\n",
       "<style scoped>\n",
       "    .dataframe tbody tr th:only-of-type {\n",
       "        vertical-align: middle;\n",
       "    }\n",
       "\n",
       "    .dataframe tbody tr th {\n",
       "        vertical-align: top;\n",
       "    }\n",
       "\n",
       "    .dataframe thead th {\n",
       "        text-align: right;\n",
       "    }\n",
       "</style>\n",
       "<table border=\"1\" class=\"dataframe\">\n",
       "  <thead>\n",
       "    <tr style=\"text-align: right;\">\n",
       "      <th></th>\n",
       "      <th>claim_id</th>\n",
       "      <th>claim_at</th>\n",
       "      <th>claim_user_id</th>\n",
       "      <th>claim_detail_id</th>\n",
       "      <th>recv_user_id</th>\n",
       "      <th>claim_amount</th>\n",
       "      <th>send_amount</th>\n",
       "      <th>status</th>\n",
       "      <th>claim_dt</th>\n",
       "    </tr>\n",
       "  </thead>\n",
       "  <tbody>\n",
       "    <tr>\n",
       "      <td>0</td>\n",
       "      <td>4420721</td>\n",
       "      <td>2020-02-07 15:29:18</td>\n",
       "      <td>5cbd74112c55a0a</td>\n",
       "      <td>14115935</td>\n",
       "      <td>e97b2a81b8cc38e</td>\n",
       "      <td>13000</td>\n",
       "      <td>NaN</td>\n",
       "      <td>CLAIM</td>\n",
       "      <td>2020-02-07</td>\n",
       "    </tr>\n",
       "    <tr>\n",
       "      <td>1</td>\n",
       "      <td>4420721</td>\n",
       "      <td>2020-02-07 15:29:18</td>\n",
       "      <td>5cbd74112c55a0a</td>\n",
       "      <td>14115933</td>\n",
       "      <td>b76fb84848485e9</td>\n",
       "      <td>13000</td>\n",
       "      <td>NaN</td>\n",
       "      <td>CLAIM</td>\n",
       "      <td>2020-02-07</td>\n",
       "    </tr>\n",
       "    <tr>\n",
       "      <td>2</td>\n",
       "      <td>4420721</td>\n",
       "      <td>2020-02-07 15:29:18</td>\n",
       "      <td>5cbd74112c55a0a</td>\n",
       "      <td>14115932</td>\n",
       "      <td>5cbd74112c55a0a</td>\n",
       "      <td>13000</td>\n",
       "      <td>13000.0</td>\n",
       "      <td>CHECK</td>\n",
       "      <td>2020-02-07</td>\n",
       "    </tr>\n",
       "    <tr>\n",
       "      <td>3</td>\n",
       "      <td>4420721</td>\n",
       "      <td>2020-02-07 15:29:18</td>\n",
       "      <td>5cbd74112c55a0a</td>\n",
       "      <td>14115934</td>\n",
       "      <td>c76d85ff6b23d31</td>\n",
       "      <td>13000</td>\n",
       "      <td>13000.0</td>\n",
       "      <td>SEND</td>\n",
       "      <td>2020-02-07</td>\n",
       "    </tr>\n",
       "    <tr>\n",
       "      <td>4</td>\n",
       "      <td>4420704</td>\n",
       "      <td>2020-02-07 15:26:54</td>\n",
       "      <td>5cbd74112c55a0a</td>\n",
       "      <td>14115887</td>\n",
       "      <td>e97b2a81b8cc38e</td>\n",
       "      <td>13166</td>\n",
       "      <td>NaN</td>\n",
       "      <td>CLAIM</td>\n",
       "      <td>2020-02-07</td>\n",
       "    </tr>\n",
       "  </tbody>\n",
       "</table>\n",
       "</div>"
      ],
      "text/plain": [
       "   claim_id            claim_at    claim_user_id  claim_detail_id  \\\n",
       "0   4420721 2020-02-07 15:29:18  5cbd74112c55a0a         14115935   \n",
       "1   4420721 2020-02-07 15:29:18  5cbd74112c55a0a         14115933   \n",
       "2   4420721 2020-02-07 15:29:18  5cbd74112c55a0a         14115932   \n",
       "3   4420721 2020-02-07 15:29:18  5cbd74112c55a0a         14115934   \n",
       "4   4420704 2020-02-07 15:26:54  5cbd74112c55a0a         14115887   \n",
       "\n",
       "      recv_user_id  claim_amount  send_amount status    claim_dt  \n",
       "0  e97b2a81b8cc38e         13000          NaN  CLAIM  2020-02-07  \n",
       "1  b76fb84848485e9         13000          NaN  CLAIM  2020-02-07  \n",
       "2  5cbd74112c55a0a         13000      13000.0  CHECK  2020-02-07  \n",
       "3  c76d85ff6b23d31         13000      13000.0   SEND  2020-02-07  \n",
       "4  e97b2a81b8cc38e         13166          NaN  CLAIM  2020-02-07  "
      ]
     },
     "execution_count": 12,
     "metadata": {},
     "output_type": "execute_result"
    }
   ],
   "source": [
    "import datetime\n",
    "\n",
    "dutch_t['claim_at'] = pd.to_datetime(dutch_t['claim_at'], format='%Y-%m-%d %H:%M:%S', errors='raise')\n",
    "dutch_t['claim_dt'] = dutch_t['claim_at'].dt.date\n",
    "\n",
    "#dutch_t.drop(['claim_date'], axis='columns', inplace=True)\n",
    "dutch_t.head()"
   ]
  },
  {
   "cell_type": "code",
   "execution_count": 33,
   "metadata": {},
   "outputs": [
    {
     "data": {
      "text/html": [
       "<div>\n",
       "<style scoped>\n",
       "    .dataframe tbody tr th:only-of-type {\n",
       "        vertical-align: middle;\n",
       "    }\n",
       "\n",
       "    .dataframe tbody tr th {\n",
       "        vertical-align: top;\n",
       "    }\n",
       "\n",
       "    .dataframe thead th {\n",
       "        text-align: right;\n",
       "    }\n",
       "</style>\n",
       "<table border=\"1\" class=\"dataframe\">\n",
       "  <thead>\n",
       "    <tr style=\"text-align: right;\">\n",
       "      <th></th>\n",
       "      <th>claim_dt</th>\n",
       "      <th>claim_cnt</th>\n",
       "      <th>claim_res_cnt</th>\n",
       "      <th>recv_rate</th>\n",
       "    </tr>\n",
       "  </thead>\n",
       "  <tbody>\n",
       "    <tr>\n",
       "      <td>0</td>\n",
       "      <td>2019-12-01</td>\n",
       "      <td>2427</td>\n",
       "      <td>1271</td>\n",
       "      <td>52.37</td>\n",
       "    </tr>\n",
       "    <tr>\n",
       "      <td>1</td>\n",
       "      <td>2019-12-02</td>\n",
       "      <td>2979</td>\n",
       "      <td>1783</td>\n",
       "      <td>59.85</td>\n",
       "    </tr>\n",
       "    <tr>\n",
       "      <td>2</td>\n",
       "      <td>2019-12-03</td>\n",
       "      <td>2926</td>\n",
       "      <td>1840</td>\n",
       "      <td>62.88</td>\n",
       "    </tr>\n",
       "    <tr>\n",
       "      <td>3</td>\n",
       "      <td>2019-12-04</td>\n",
       "      <td>4634</td>\n",
       "      <td>1714</td>\n",
       "      <td>36.99</td>\n",
       "    </tr>\n",
       "    <tr>\n",
       "      <td>4</td>\n",
       "      <td>2019-12-05</td>\n",
       "      <td>2887</td>\n",
       "      <td>1901</td>\n",
       "      <td>65.85</td>\n",
       "    </tr>\n",
       "  </tbody>\n",
       "</table>\n",
       "</div>"
      ],
      "text/plain": [
       "     claim_dt  claim_cnt  claim_res_cnt  recv_rate\n",
       "0  2019-12-01       2427           1271      52.37\n",
       "1  2019-12-02       2979           1783      59.85\n",
       "2  2019-12-03       2926           1840      62.88\n",
       "3  2019-12-04       4634           1714      36.99\n",
       "4  2019-12-05       2887           1901      65.85"
      ]
     },
     "execution_count": 33,
     "metadata": {},
     "output_type": "execute_result"
    }
   ],
   "source": [
    "claim=dutch_t[dutch_t['status']=='CLAIM']\n",
    "claim_gr=claim.groupby(by=['claim_dt'], as_index=False).count()\n",
    "claim_res=dutch_t[dutch_t['status']=='SEND']\n",
    "claim_res_gr=claim_res.groupby(by=['claim_dt'], as_index=False).count()\n",
    "claim_gr1=claim_gr[['claim_dt','claim_id']]\n",
    "claim_gr1=claim_gr1.rename({'claim_id' : 'claim_cnt'}, axis='columns')\n",
    "claim_res_gr1=claim_res_gr[['claim_dt','claim_id']]\n",
    "claim_res_gr1=claim_res_gr1.rename({'claim_id' : 'claim_res_cnt'}, axis='columns')\n",
    "claim2=pd.merge(claim_gr1,claim_res_gr1, on='claim_dt', how='inner')\n",
    "\n",
    "claim2['recv_rate']=round((claim2['claim_res_cnt']/claim2['claim_cnt'])*100,2)\n",
    "claim2.head()"
   ]
  },
  {
   "cell_type": "code",
   "execution_count": 34,
   "metadata": {},
   "outputs": [
    {
     "data": {
      "image/png": "[encoded data removed]",
      "text/plain": [
       "<Figure size 1440x432 with 1 Axes>"
      ]
     },
     "metadata": {},
     "output_type": "display_data"
    }
   ],
   "source": [
    "# importing packages\n",
    "\n",
    "import numpy as np\n",
    "import pandas as pd\n",
    "import matplotlib.pyplot as plt\n",
    "import seaborn as sns\n",
    "\n",
    "plt.rcParams['figure.figsize'] = [20, 6]\n",
    "\n",
    "label =claim2['claim_dt']\n",
    "index = np.arange(len(label))\n",
    "\n",
    "plt.bar(index,claim2['claim_cnt'])\n",
    "plt.title('claim date count', fontsize=20)\n",
    "plt.xlabel('claim date', fontsize=15)\n",
    "plt.ylabel('count', fontsize=15)\n",
    "plt.xticks(index, label, fontsize=5)\n",
    "plt.show()"
   ]
  },
  {
   "cell_type": "code",
   "execution_count": 35,
   "metadata": {},
   "outputs": [
    {
     "data": {
      "text/plain": [
       "[Text(0,0.5,'rate'), Text(0.5,1,'reciv rate')]"
      ]
     },
     "execution_count": 35,
     "metadata": {},
     "output_type": "execute_result"
    },
    {
     "data": {
      "image/png": "[encoded data removed]",
      "text/plain": [
       "<Figure size 1296x576 with 2 Axes>"
      ]
     },
     "metadata": {},
     "output_type": "display_data"
    }
   ],
   "source": [
    "figure,(ax1, ax2)=plt.subplots(nrows=1, ncols=2)\n",
    "figure.set_size_inches(18,8)\n",
    "\n",
    "sns.barplot(data=claim2, x=\"claim_dt\",y=\"claim_cnt\",ax=ax1)\n",
    "sns.barplot(data=claim2, x=\"claim_dt\",y=\"recv_rate\",ax=ax2)\n",
    "\n",
    "ax1.set(ylabel='Count', title=\"count\")\n",
    "ax2.set(ylabel='rate', title=\"reciv rate\")"
   ]
  },
  {
   "cell_type": "code",
   "execution_count": 36,
   "metadata": {},
   "outputs": [
    {
     "data": {
      "text/plain": [
       "<matplotlib.axes._subplots.AxesSubplot at 0x1f19769da90>"
      ]
     },
     "execution_count": 36,
     "metadata": {},
     "output_type": "execute_result"
    },
    {
     "data": {
      "image/png": "[encoded data removed]",
      "text/plain": [
       "<Figure size 1440x432 with 1 Axes>"
      ]
     },
     "metadata": {},
     "output_type": "display_data"
    }
   ],
   "source": [
    "claim2.plot(kind='scatter',x='claim_cnt',y='recv_rate')"
   ]
  },
  {
   "cell_type": "code",
   "execution_count": 37,
   "metadata": {},
   "outputs": [
    {
     "data": {
      "text/html": [
       "<div>\n",
       "<style scoped>\n",
       "    .dataframe tbody tr th:only-of-type {\n",
       "        vertical-align: middle;\n",
       "    }\n",
       "\n",
       "    .dataframe tbody tr th {\n",
       "        vertical-align: top;\n",
       "    }\n",
       "\n",
       "    .dataframe thead th {\n",
       "        text-align: right;\n",
       "    }\n",
       "</style>\n",
       "<table border=\"1\" class=\"dataframe\">\n",
       "  <thead>\n",
       "    <tr style=\"text-align: right;\">\n",
       "      <th></th>\n",
       "      <th>claim_cnt</th>\n",
       "      <th>claim_res_cnt</th>\n",
       "      <th>recv_rate</th>\n",
       "    </tr>\n",
       "  </thead>\n",
       "  <tbody>\n",
       "    <tr>\n",
       "      <td>claim_cnt</td>\n",
       "      <td>1.000000</td>\n",
       "      <td>0.822175</td>\n",
       "      <td>0.140848</td>\n",
       "    </tr>\n",
       "    <tr>\n",
       "      <td>claim_res_cnt</td>\n",
       "      <td>0.822175</td>\n",
       "      <td>1.000000</td>\n",
       "      <td>0.656770</td>\n",
       "    </tr>\n",
       "    <tr>\n",
       "      <td>recv_rate</td>\n",
       "      <td>0.140848</td>\n",
       "      <td>0.656770</td>\n",
       "      <td>1.000000</td>\n",
       "    </tr>\n",
       "  </tbody>\n",
       "</table>\n",
       "</div>"
      ],
      "text/plain": [
       "               claim_cnt  claim_res_cnt  recv_rate\n",
       "claim_cnt       1.000000       0.822175   0.140848\n",
       "claim_res_cnt   0.822175       1.000000   0.656770\n",
       "recv_rate       0.140848       0.656770   1.000000"
      ]
     },
     "execution_count": 37,
     "metadata": {},
     "output_type": "execute_result"
    }
   ],
   "source": [
    "claim2.corr(method='pearson')"
   ]
  },
  {
   "cell_type": "markdown",
   "metadata": {},
   "source": [
    "# 결론\n",
    " * 일별 요청 응답율과 사용(요청)건수에 대한 상관계수는 0.14로 낮으므로 상관이 있다고 할 수 없다. \n",
    " * 요청건수가 증가할수록, 응답건수도 같이 증가하는 경향성은 있으나, 율이 같이 증가한다고 할수는 없다"
   ]
  },
  {
   "cell_type": "code",
   "execution_count": null,
   "metadata": {},
   "outputs": [],
   "source": []
  }
 ],
 "metadata": {
  "kernelspec": {
   "display_name": "Python 3",
   "language": "python",
   "name": "python3"
  },
  "language_info": {
   "codemirror_mode": {
    "name": "ipython",
    "version": 3
   },
   "file_extension": ".py",
   "mimetype": "text/x-python",
   "name": "python",
   "nbconvert_exporter": "python",
   "pygments_lexer": "ipython3",
   "version": "3.6.5"
  }
 },
 "nbformat": 4,
 "nbformat_minor": 2
}
